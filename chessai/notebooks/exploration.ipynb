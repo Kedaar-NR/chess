{
  "cells": [
    {
      "cell_type": "markdown",
      "metadata": {},
      "source": [
        "# ChessAI Exploration Notebook\n",
        "\n",
        "This notebook provides examples and exploration tools for the ChessAI engine.\n"
      ]
    }
  ],
  "metadata": {
    "language_info": {
      "name": "python"
    }
  },
  "nbformat": 4,
  "nbformat_minor": 2
}
